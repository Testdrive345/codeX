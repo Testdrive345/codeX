{
  "nbformat": 4,
  "nbformat_minor": 0,
  "metadata": {
    "colab": {
      "name": "gpu",
      "provenance": [],
      "authorship_tag": "ABX9TyNjYfp+XVG5JRtws8lgEfAj",
      "include_colab_link": true
    },
    "kernelspec": {
      "name": "python3",
      "display_name": "Python 3"
    },
    "language_info": {
      "name": "python"
    }
  },
  "cells": [
    {
      "cell_type": "markdown",
      "metadata": {
        "id": "view-in-github",
        "colab_type": "text"
      },
      "source": [
        "<a href=\"https://colab.research.google.com/github/Testdrive345/codeX/blob/main/gpu.ipynb\" target=\"_parent\"><img src=\"https://colab.research.google.com/assets/colab-badge.svg\" alt=\"Open In Colab\"/></a>"
      ]
    },
    {
      "cell_type": "code",
      "execution_count": null,
      "metadata": {
        "cellView": "form",
        "id": "YTp2XVU0s-g2"
      },
      "outputs": [],
      "source": [
        "#@title 3 click t-4 script 100% { form-width: \"20px\" }\n",
        "! nvidia-smi"
      ]
    },
    {
      "cell_type": "code",
      "source": [
        "#@title long run script\n",
        "! su"
      ],
      "metadata": {
        "cellView": "form",
        "id": "JrbMn6WktK7N"
      },
      "execution_count": null,
      "outputs": []
    }
  ]
}